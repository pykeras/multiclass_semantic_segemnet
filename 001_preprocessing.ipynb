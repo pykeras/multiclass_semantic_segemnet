{
 "cells": [
  {
   "cell_type": "code",
   "execution_count": 1,
   "metadata": {},
   "outputs": [
    {
     "data": {
      "text/html": [
       "<pre>✔️ 428 µs (2022-09-20T00:54:30/2022-09-20T00:54:30)</pre>"
      ],
      "text/plain": [
       "<IPython.core.display.HTML object>"
      ]
     },
     "metadata": {},
     "output_type": "display_data"
    }
   ],
   "source": [
    "%load_ext autotime"
   ]
  },
  {
   "cell_type": "code",
   "execution_count": 2,
   "metadata": {},
   "outputs": [
    {
     "data": {
      "text/html": [
       "<pre>✔️ 633 ms (2022-09-20T00:54:30/2022-09-20T00:54:31)</pre>"
      ],
      "text/plain": [
       "<IPython.core.display.HTML object>"
      ]
     },
     "metadata": {},
     "output_type": "display_data"
    }
   ],
   "source": [
    "import numpy as np, cv2, os, glob\n",
    "from PIL import Image\n",
    "import matplotlib.pyplot as plt\n",
    "from multiprocessing import Process"
   ]
  },
  {
   "cell_type": "code",
   "execution_count": 3,
   "metadata": {},
   "outputs": [
    {
     "data": {
      "text/html": [
       "<pre>✔️ 2.14 ms (2022-09-20T00:54:31/2022-09-20T00:54:31)</pre>"
      ],
      "text/plain": [
       "<IPython.core.display.HTML object>"
      ]
     },
     "metadata": {},
     "output_type": "display_data"
    }
   ],
   "source": [
    "OUT_DIR = \"./data/preprocess/masks\""
   ]
  },
  {
   "cell_type": "code",
   "execution_count": 4,
   "metadata": {},
   "outputs": [
    {
     "data": {
      "text/html": [
       "<pre>✔️ 464 ms (2022-09-20T00:54:31/2022-09-20T00:54:32)</pre>"
      ],
      "text/plain": [
       "<IPython.core.display.HTML object>"
      ]
     },
     "metadata": {},
     "output_type": "display_data"
    }
   ],
   "source": [
    "skin_masks = glob.glob('./data/CelebAMask-HQ/CelebAMask-HQ-mask-anno/**/*_skin.png')"
   ]
  },
  {
   "cell_type": "code",
   "execution_count": 5,
   "metadata": {},
   "outputs": [
    {
     "data": {
      "text/html": [
       "<pre>✔️ 3.47 ms (2022-09-20T00:54:32/2022-09-20T00:54:32)</pre>"
      ],
      "text/plain": [
       "<IPython.core.display.HTML object>"
      ]
     },
     "metadata": {},
     "output_type": "display_data"
    }
   ],
   "source": [
    "def combine_skin_hair_mask(skin_masks, out_dir):\n",
    "  for f in skin_masks:\n",
    "    fname = f.split('_')[0]\n",
    "    skin = cv2.imread(f, cv2.IMREAD_GRAYSCALE)\n",
    "    skin = np.array(skin)//255 # mask value set to 1\n",
    "    if os.path.exists(hair_f:=fname+'_hair.png'):\n",
    "      hair = cv2.imread(hair_f, cv2.IMREAD_GRAYSCALE)\n",
    "      hair = (np.array(hair)//255)*2 # new mask value set to 2\n",
    "      \n",
    "      # combine 2 masks, importance : hair\n",
    "      res = np.maximum.reduce([skin, hair])\n",
    "      out = os.path.join(out_dir, fname.split('/')[-1]) \n",
    "      cv2.imwrite(out+'.png', res)\n",
    "    else:\n",
    "      out = os.path.join(out_dir, fname.split('/')[-1])\n",
    "      cv2.imwrite(out+'.png', skin)"
   ]
  },
  {
   "cell_type": "code",
   "execution_count": 6,
   "metadata": {},
   "outputs": [
    {
     "data": {
      "text/html": [
       "<pre>✔️ 25.6 s (2022-09-20T00:54:32/2022-09-20T00:54:58)</pre>"
      ],
      "text/plain": [
       "<IPython.core.display.HTML object>"
      ]
     },
     "metadata": {},
     "output_type": "display_data"
    }
   ],
   "source": [
    "if not os.path.exists(OUT_DIR):\n",
    "  os.makedirs(OUT_DIR)\n",
    "  # tweak the numbers if you have less cpu cores (current : 6)\n",
    "  processes = [Process(target=combine_skin_hair_mask, \n",
    "                       args=(skin_masks[i*5000:(i+1)*5000], OUT_DIR)) for i in range(6)]\n",
    "  [p.start() for p in processes]\n",
    "  [p.join() for p in processes]\n",
    "else:\n",
    "  print(\"preprocessing directory already exists.\")"
   ]
  },
  {
   "cell_type": "markdown",
   "metadata": {},
   "source": [
    "Before we try to plot an output mask :  \n",
    "keep in mind our pixel values are 0, 1, 2  \n",
    "> 0 : background pixels  \n",
    "> 1 : skin mask (face)  \n",
    "> 2: hair mask  "
   ]
  },
  {
   "cell_type": "code",
   "execution_count": 7,
   "metadata": {},
   "outputs": [
    {
     "data": {
      "text/html": [
       "<pre>✔️ 127 ms (2022-09-20T00:54:58/2022-09-20T00:54:58)</pre>"
      ],
      "text/plain": [
       "<IPython.core.display.HTML object>"
      ]
     },
     "metadata": {},
     "output_type": "display_data"
    },
    {
     "data": {
      "image/png": "[encoded data removed]",
      "text/plain": [
       "<Figure size 504x504 with 1 Axes>"
      ]
     },
     "metadata": {
      "needs_background": "light"
     },
     "output_type": "display_data"
    }
   ],
   "source": [
    "# let see how we can plot one of the masks\n",
    "sample_mask = cv2.imread(OUT_DIR+'/08007.png',\n",
    "                         cv2.IMREAD_GRAYSCALE)\n",
    "\n",
    "plt.figure(figsize=(7, 7))\n",
    "plt.axis('off')\n",
    "plt.imshow(sample_mask*127);"
   ]
  },
  {
   "cell_type": "code",
   "execution_count": null,
   "metadata": {},
   "outputs": [],
   "source": []
  }
 ],
 "metadata": {
  "kernelspec": {
   "display_name": "tf2.9",
   "language": "python",
   "name": "tf2.9"
  },
  "language_info": {
   "codemirror_mode": {
    "name": "ipython",
    "version": 3
   },
   "file_extension": ".py",
   "mimetype": "text/x-python",
   "name": "python",
   "nbconvert_exporter": "python",
   "pygments_lexer": "ipython3",
   "version": "3.8.10"
  },
  "orig_nbformat": 4
 },
 "nbformat": 4,
 "nbformat_minor": 2
}
